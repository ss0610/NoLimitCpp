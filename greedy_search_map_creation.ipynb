{
  "nbformat": 4,
  "nbformat_minor": 0,
  "metadata": {
    "colab": {
      "provenance": [],
      "authorship_tag": "ABX9TyPCKftU19a25es4ncV1Buw8",
      "include_colab_link": true
    },
    "kernelspec": {
      "name": "python3",
      "display_name": "Python 3"
    },
    "language_info": {
      "name": "python"
    }
  },
  "cells": [
    {
      "cell_type": "markdown",
      "metadata": {
        "id": "view-in-github",
        "colab_type": "text"
      },
      "source": [
        "<a href=\"https://colab.research.google.com/github/ss0610/NoLimitCpp/blob/main/greedy_search_map_creation.ipynb\" target=\"_parent\"><img src=\"https://colab.research.google.com/assets/colab-badge.svg\" alt=\"Open In Colab\"/></a>"
      ]
    },
    {
      "cell_type": "code",
      "execution_count": 2,
      "metadata": {
        "id": "613P6m9iJsTQ"
      },
      "outputs": [],
      "source": [
        "class vertex:\n",
        "  def __init__(self,label,dist_obj):\n",
        "    self.label=label\n",
        "    self.visited=False\n",
        "    self.dist_obj=dist_obj\n",
        "    self.adjacent=[]\n",
        "  def add_adjacent(self,adjacent):\n",
        "    self.adjacent.append(adjacent)\n",
        "  def print_adjacent(self):\n",
        "    for i in self.adjacent:\n",
        "      print(i.vertx.label,i.cost)"
      ]
    },
    {
      "cell_type": "code",
      "source": [
        "class adjacent:\n",
        "  def __init__(self,vertex,cost):\n",
        "    self.vertex=vertex\n",
        "    self.cost=cost"
      ],
      "metadata": {
        "id": "MA10I4udK9UF"
      },
      "execution_count": 34,
      "outputs": []
    },
    {
      "cell_type": "code",
      "source": [
        "class graph:\n",
        "  arad=vertex(\"Arad\",366)\n",
        "  zerind=vertex(\"Zerind\",374)\n",
        "  oradea=vertex(\"Oradea\",380)\n",
        "  sibiu=vertex(\"Sibiu\",253)\n",
        "  timisoara=vertex(\"Timisoara\",329)\n",
        "  lugoj=vertex(\"Lugoj\",244)\n",
        "  mehadia=vertex(\"Mehadia\",241)\n",
        "  dobreta=vertex(\"Dobreta\",242)\n",
        "  craiova=vertex(\"Craiova\",160)\n",
        "  rimnicu=vertex(\"Rimnicu\",193)\n",
        "  fagaras=vertex(\"Fagaras\",178)\n",
        "  pitesti=vertex(\"Pitesti\",98)\n",
        "  bucharest=vertex(\"Bucharest\",0)\n",
        "  giurgiu=vertex(\"Giurgiu\",77)\n",
        "\n",
        "  arad.add_adjacent(adjacent(zerind,75))\n",
        "  arad.add_adjacent(adjacent(sibiu,140))\n",
        "  arad.add_adjacent(adjacent(timisoara,118))\n",
        "\n",
        "  zerind.add_adjacent(adjacent(arad,75))\n",
        "  zerind.add_adjacent(adjacent(oradea,71))\n",
        "\n",
        "  oradea.add_adjacent(adjacent(zerind,71))\n",
        "  oradea.add_adjacent(adjacent(sibiu,151))\n",
        "\n",
        "  sibiu.add_adjacent(adjacent(oradea,151))\n",
        "  sibiu.add_adjacent(adjacent(arad,140))\n",
        "  sibiu.add_adjacent(adjacent(fagaras,99))\n",
        "  sibiu.add_adjacent(adjacent(rimnicu,80))\n",
        "\n",
        "  timisoara.add_adjacent(adjacent(arad,118))\n",
        "  timisoara.add_adjacent(adjacent(lugoj,111))\n",
        "\n",
        "  lugoj.add_adjacent(adjacent(timisoara,111))\n",
        "  lugoj.add_adjacent(adjacent(mehadia,70))\n",
        "\n",
        "  mehadia.add_adjacent(adjacent(lugoj,70))\n",
        "  mehadia.add_adjacent(adjacent(dobreta,75))\n",
        "\n",
        "  dobreta.add_adjacent(adjacent(mehadia,75))\n",
        "  dobreta.add_adjacent(adjacent(craiova,120))\n",
        "\n",
        "  craiova.add_adjacent(adjacent(dobreta,120))\n",
        "  craiova.add_adjacent(adjacent(pitesti,138))\n",
        "  craiova.add_adjacent(adjacent(rimnicu,146))\n",
        "\n",
        "  rimnicu.add_adjacent(adjacent(craiova,146))\n",
        "  rimnicu.add_adjacent(adjacent(sibiu,80))\n",
        "  rimnicu.add_adjacent(adjacent(pitesti,97))\n",
        "\n",
        "  fagaras.add_adjacent(adjacent(sibiu,99))\n",
        "  fagaras.add_adjacent(adjacent(bucharest,211))\n",
        "\n",
        "  pitesti.add_adjacent(adjacent(rimnicu,97))\n",
        "  pitesti.add_adjacent(adjacent(craiova,138))\n",
        "  pitesti.add_adjacent(adjacent(bucharest,101))\n",
        "\n",
        "  bucharest.add_adjacent(adjacent(fagaras,211))\n",
        "  bucharest.add_adjacent(adjacent(pitesti,101))\n",
        "  bucharest.add_adjacent(adjacent(giurgiu,90))\n"
      ],
      "metadata": {
        "id": "-XZhxanwLC-y"
      },
      "execution_count": 35,
      "outputs": []
    },
    {
      "cell_type": "code",
      "execution_count": 6,
      "metadata": {
        "id": "71eY9I8hF2y-"
      },
      "outputs": [],
      "source": [
        "import numpy as np"
      ]
    },
    {
      "cell_type": "code",
      "source": [
        "class ordervector:\n",
        "  def __init__(self,capacity):\n",
        "    self.capacity= capacity\n",
        "    self.last_position=-1\n",
        "    self.values=np.empty(self.capacity,dtype=object)\n",
        "\n",
        "  def print(self):\n",
        "    if(self.last_position==-1):\n",
        "      print(\"Empty array\")\n",
        "    else:\n",
        "      for i in range(self.last_position+1):\n",
        "        print(i,\" - \",self.values[i].label,'-',self.values[i].dist_obj)\n",
        "\n",
        "  def insert(self,vertex):\n",
        "    if self.last_position==self.capacity-1:\n",
        "      print(\"Array is full\")\n",
        "      return\n",
        "\n",
        "    position=0\n",
        "    for i in range(self.last_position+1):\n",
        "        position=i\n",
        "        if(self.values[i].dist_obj>vertex.dist_obj):\n",
        "          break\n",
        "        if(i==self.last_position):\n",
        "          position=i+1\n",
        "      ###rearranging left hand side elements\n",
        "    x=self.last_position\n",
        "    while(x>=position):\n",
        "        self.values[x+1]=self.values[x]\n",
        "        x-=1\n",
        "    self.values[position]=vertex\n",
        "    self.last_position+=1\n"
      ],
      "metadata": {
        "id": "hXD7e82nF_b9"
      },
      "execution_count": 17,
      "outputs": []
    },
    {
      "cell_type": "code",
      "source": [
        "array=ordervector(5)\n",
        "array.insert(graph.arad)\n",
        "array.insert(graph.bucharest)\n",
        "array.insert(graph.craiova)\n",
        "array.insert(graph.dobreta)\n",
        "array.insert(graph.fagaras)\n",
        "array.print()"
      ],
      "metadata": {
        "colab": {
          "base_uri": "https://localhost:8080/"
        },
        "id": "FvCxBX5rnB3L",
        "outputId": "60483fdf-6c55-4347-c500-69788ba2a060"
      },
      "execution_count": 19,
      "outputs": [
        {
          "output_type": "stream",
          "name": "stdout",
          "text": [
            "0  -  Bucharest - 0\n",
            "1  -  Craiova - 160\n",
            "2  -  Fagaras - 178\n",
            "3  -  Dobreta - 242\n",
            "4  -  Arad - 366\n"
          ]
        }
      ]
    },
    {
      "cell_type": "code",
      "source": [
        "print(array),array.values[0].label,array.values[1].dist_obj"
      ],
      "metadata": {
        "colab": {
          "base_uri": "https://localhost:8080/"
        },
        "id": "Elx4Qd1gpyCA",
        "outputId": "a3942dfa-00a6-41b7-a7c0-a3d1cf5f4310"
      },
      "execution_count": 23,
      "outputs": [
        {
          "output_type": "stream",
          "name": "stdout",
          "text": [
            "<__main__.ordervector object at 0x7c6c72c0d590>\n"
          ]
        },
        {
          "output_type": "execute_result",
          "data": {
            "text/plain": [
              "(None, 'Bucharest', 160)"
            ]
          },
          "metadata": {},
          "execution_count": 23
        }
      ]
    },
    {
      "cell_type": "markdown",
      "source": [
        "##Greedy Search"
      ],
      "metadata": {
        "id": "sZOT3lT_s72-"
      }
    },
    {
      "cell_type": "code",
      "source": [
        "class greedy:\n",
        "  def __init__(self,objective):\n",
        "    self.objective=objective\n",
        "    self.found=False\n",
        "\n",
        "  def search(self,current):\n",
        "    print('-------')\n",
        "    print('current: {}'.format(current.label))\n",
        "    current.visited=True\n",
        "\n",
        "    if current==self.objective:\n",
        "      self.found=True\n",
        "    else:\n",
        "      ordered_array=ordervector(len(current.adjacent))\n",
        "      for adjacent in current.adjacent:\n",
        "        if adjacent.vertex.visited==False:\n",
        "          adjacent.vertex.visited=True\n",
        "          ordered_array.insert(adjacent.vertex)\n",
        "        ordered_array.print()\n",
        "\n",
        "        if ordered_array.values[0]!=None:\n",
        "          self.search(ordered_array.values[0])"
      ],
      "metadata": {
        "id": "gOnRM6qHs7bO"
      },
      "execution_count": 36,
      "outputs": []
    },
    {
      "cell_type": "code",
      "source": [
        "greedy_search=greedy(graph.bucharest)\n",
        "greedy_search.search(graph.arad)"
      ],
      "metadata": {
        "colab": {
          "base_uri": "https://localhost:8080/"
        },
        "id": "lHzRa0u2wNpx",
        "outputId": "e195e2ce-eaaa-45db-c9ca-1ab3e4fa2643"
      },
      "execution_count": 37,
      "outputs": [
        {
          "output_type": "stream",
          "name": "stdout",
          "text": [
            "-------\n",
            "current: Arad\n",
            "0  -  Zerind - 374\n",
            "-------\n",
            "current: Zerind\n",
            "Empty array\n",
            "0  -  Oradea - 380\n",
            "-------\n",
            "current: Oradea\n",
            "Empty array\n",
            "0  -  Sibiu - 253\n",
            "-------\n",
            "current: Sibiu\n",
            "Empty array\n",
            "Empty array\n",
            "0  -  Fagaras - 178\n",
            "-------\n",
            "current: Fagaras\n",
            "Empty array\n",
            "0  -  Bucharest - 0\n",
            "-------\n",
            "current: Bucharest\n",
            "0  -  Fagaras - 178\n",
            "1  -  Rimnicu - 193\n",
            "-------\n",
            "current: Fagaras\n",
            "Empty array\n",
            "Empty array\n",
            "0  -  Zerind - 374\n",
            "-------\n",
            "current: Zerind\n",
            "Empty array\n",
            "Empty array\n",
            "0  -  Timisoara - 329\n",
            "1  -  Zerind - 374\n",
            "-------\n",
            "current: Timisoara\n",
            "Empty array\n",
            "0  -  Lugoj - 244\n",
            "-------\n",
            "current: Lugoj\n",
            "Empty array\n",
            "0  -  Mehadia - 241\n",
            "-------\n",
            "current: Mehadia\n",
            "Empty array\n",
            "0  -  Dobreta - 242\n",
            "-------\n",
            "current: Dobreta\n",
            "Empty array\n",
            "0  -  Craiova - 160\n",
            "-------\n",
            "current: Craiova\n",
            "Empty array\n",
            "0  -  Pitesti - 98\n",
            "-------\n",
            "current: Pitesti\n",
            "Empty array\n",
            "Empty array\n",
            "Empty array\n",
            "0  -  Pitesti - 98\n",
            "-------\n",
            "current: Pitesti\n",
            "Empty array\n",
            "Empty array\n",
            "Empty array\n"
          ]
        }
      ]
    }
  ]
}