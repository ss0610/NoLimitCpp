{
  "nbformat": 4,
  "nbformat_minor": 0,
  "metadata": {
    "colab": {
      "provenance": [],
      "authorship_tag": "ABX9TyOby2Gk1fSgHpAwD0VhO/Cn",
      "include_colab_link": true
    },
    "kernelspec": {
      "name": "python3",
      "display_name": "Python 3"
    },
    "language_info": {
      "name": "python"
    }
  },
  "cells": [
    {
      "cell_type": "markdown",
      "metadata": {
        "id": "view-in-github",
        "colab_type": "text"
      },
      "source": [
        "<a href=\"https://colab.research.google.com/github/ss0610/NoLimitCpp/blob/main/rock_paper_scissors.ipynb\" target=\"_parent\"><img src=\"https://colab.research.google.com/assets/colab-badge.svg\" alt=\"Open In Colab\"/></a>"
      ]
    },
    {
      "cell_type": "code",
      "execution_count": 1,
      "metadata": {
        "colab": {
          "base_uri": "https://localhost:8080/"
        },
        "id": "YAlFQVZhAs-g",
        "outputId": "9609c745-c17c-4e77-fa35-91beda8cd27a"
      },
      "outputs": [
        {
          "output_type": "stream",
          "name": "stdout",
          "text": [
            "Requirement already satisfied: numpy in /usr/local/lib/python3.11/dist-packages (2.0.2)\n",
            "Requirement already satisfied: scikit-learn in /usr/local/lib/python3.11/dist-packages (1.6.1)\n",
            "Requirement already satisfied: scipy>=1.6.0 in /usr/local/lib/python3.11/dist-packages (from scikit-learn) (1.15.3)\n",
            "Requirement already satisfied: joblib>=1.2.0 in /usr/local/lib/python3.11/dist-packages (from scikit-learn) (1.5.1)\n",
            "Requirement already satisfied: threadpoolctl>=3.1.0 in /usr/local/lib/python3.11/dist-packages (from scikit-learn) (3.6.0)\n"
          ]
        }
      ],
      "source": [
        "pip install numpy scikit-learn\n"
      ]
    },
    {
      "cell_type": "code",
      "source": [
        "import random\n",
        "import numpy as np\n",
        "from sklearn.naive_bayes import MultinomialNB\n",
        "\n",
        "# Mapping\n",
        "moves = ['rock', 'paper', 'scissors']\n",
        "move_to_int = {'rock': 0, 'paper': 1, 'scissors': 2}\n",
        "int_to_move = {v: k for k, v in move_to_int.items()}\n",
        "\n",
        "# Store move history\n",
        "X = []\n",
        "y = []\n",
        "\n",
        "# ML Model\n",
        "model = MultinomialNB()\n",
        "\n",
        "def predict_next_move(history):\n",
        "    if len(X) < 5:\n",
        "        return random.choice(moves)\n",
        "\n",
        "    # Train the model\n",
        "    model.fit(X, y)\n",
        "\n",
        "    # Predict next move based on last player move\n",
        "    last_move = history[-1]\n",
        "    input_move = [move_to_int[last_move]]\n",
        "    prediction = model.predict([input_move])[0]\n",
        "    predicted_move = int_to_move[prediction]\n",
        "    return predicted_move\n",
        "\n",
        "def get_winning_move(move):\n",
        "    if move == 'rock':\n",
        "        return 'paper'\n",
        "    elif move == 'paper':\n",
        "        return 'scissors'\n",
        "    else:\n",
        "        return 'rock'\n",
        "\n",
        "def play():\n",
        "    print(\"Welcome to ML Rock-Paper-Scissors!\")\n",
        "    history = []\n",
        "\n",
        "    for round_num in range(1, 21):\n",
        "        print(f\"\\nRound {round_num}\")\n",
        "        player_move = input(\"Your move (rock, paper, scissors): \").strip().lower()\n",
        "\n",
        "        if player_move not in moves:\n",
        "            print(\"Invalid move.\")\n",
        "            continue\n",
        "\n",
        "        if history:\n",
        "            predicted_opponent_move = predict_next_move(history)\n",
        "            ai_move = get_winning_move(predicted_opponent_move)\n",
        "        else:\n",
        "            ai_move = random.choice(moves)\n",
        "\n",
        "        print(f\"AI chose: {ai_move}\")\n",
        "\n",
        "        # Record history\n",
        "        if history:\n",
        "            X.append([move_to_int[history[-1]]])\n",
        "            y.append(move_to_int[player_move])\n",
        "        history.append(player_move)\n",
        "\n",
        "        # Game result\n",
        "        if player_move == ai_move:\n",
        "            print(\"It's a draw!\")\n",
        "        elif get_winning_move(player_move) == ai_move:\n",
        "            print(\"You lose!\")\n",
        "        else:\n",
        "            print(\"You win!\")\n",
        "\n",
        "play()\n"
      ],
      "metadata": {
        "colab": {
          "base_uri": "https://localhost:8080/"
        },
        "id": "V99aAqXMA4IF",
        "outputId": "e3444ccb-099f-4247-e3bd-757b1a0f6163"
      },
      "execution_count": null,
      "outputs": [
        {
          "output_type": "stream",
          "name": "stdout",
          "text": [
            "Welcome to ML Rock-Paper-Scissors!\n",
            "\n",
            "Round 1\n",
            "Your move (rock, paper, scissors): rock\n",
            "AI chose: rock\n",
            "It's a draw!\n",
            "\n",
            "Round 2\n",
            "Your move (rock, paper, scissors): rock\n",
            "AI chose: paper\n",
            "You lose!\n",
            "\n",
            "Round 3\n",
            "Your move (rock, paper, scissors): rock\n",
            "AI chose: scissors\n",
            "You win!\n",
            "\n",
            "Round 4\n"
          ]
        }
      ]
    }
  ]
}