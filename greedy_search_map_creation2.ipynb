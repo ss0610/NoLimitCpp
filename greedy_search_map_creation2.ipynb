{
  "nbformat": 4,
  "nbformat_minor": 0,
  "metadata": {
    "colab": {
      "provenance": [],
      "authorship_tag": "ABX9TyO6TMlX79fsnZaZOd4E43xg",
      "include_colab_link": true
    },
    "kernelspec": {
      "name": "python3",
      "display_name": "Python 3"
    },
    "language_info": {
      "name": "python"
    }
  },
  "cells": [
    {
      "cell_type": "markdown",
      "metadata": {
        "id": "view-in-github",
        "colab_type": "text"
      },
      "source": [
        "<a href=\"https://colab.research.google.com/github/ss0610/NoLimitCpp/blob/main/greedy_search_map_creation2.ipynb\" target=\"_parent\"><img src=\"https://colab.research.google.com/assets/colab-badge.svg\" alt=\"Open In Colab\"/></a>"
      ]
    },
    {
      "cell_type": "code",
      "execution_count": 6,
      "metadata": {
        "id": "613P6m9iJsTQ"
      },
      "outputs": [],
      "source": [
        "class vertex:\n",
        "  def __init__(self,label,dist_obj):\n",
        "    self.label=label\n",
        "    self.visited=False\n",
        "    self.dist_obj=dist_obj\n",
        "    self.adjacent=[]\n",
        "  def add_adjacent(self,adjacent):\n",
        "    self.adjacent.append(adjacent)\n",
        "  def print_adjacent(self):\n",
        "    for i in self.adjacent:\n",
        "      print(i.vertx.label,i.cost)"
      ]
    },
    {
      "cell_type": "code",
      "source": [
        "class adjacent:\n",
        "  def __init__(self,vertex,cost):\n",
        "    self.vertex=vertex\n",
        "    self.cost=cost"
      ],
      "metadata": {
        "id": "MA10I4udK9UF"
      },
      "execution_count": 7,
      "outputs": []
    },
    {
      "cell_type": "code",
      "source": [
        "class graph:\n",
        " porto_uniao=vertex(\"porto uniao\",203)\n",
        " paulo_frontin=vertex(\"paulo frontin\",172)\n",
        " canoinhas=vertex(\"canoinhas\",141)\n",
        " tres_barras=vertex(\"tres barras\",131)\n",
        " sau_mateus_do_sul=vertex(\"sau mateus do sul\",123)\n",
        " irati=vertex(\"irati\",139)\n",
        " curitiba=vertex(\"curitiba\",0)\n",
        " palmeira=vertex(\"palmeira\",59)\n",
        " mafra=vertex(\"mafra\",94)\n",
        " campo_largo=vertex(\"campo largo\",27)\n",
        " balsa_nova=vertex(\"balsa nova\",41)\n",
        " lapa=vertex(\"lapa\",74)\n",
        " tijuka_do_sul=vertex(\"tijuka do sul\",56)\n",
        " araucaria=vertex(\"araucaria\",23)\n",
        " sau_jose_dos_pinhai=vertex(\"sau jose dos pinhais\",13)\n",
        " contenda=vertex(\"contenda\",39)\n",
        "\n",
        " porto_uniao.add_adjacent(adjacent(paulo_frontin,46))\n",
        " porto_uniao.add_adjacent(adjacent(sau_mateus_do_sul,87))\n",
        " porto_uniao.add_adjacent(adjacent(canoinhas,78))\n",
        "\n",
        " paulo_frontin.add_adjacent(adjacent(porto_uniao,46))\n",
        " paulo_frontin.add_adjacent(adjacent(irati,75))\n",
        "\n",
        " irati.add_adjacent(adjacent(palmeira,75))\n",
        " irati.add_adjacent(adjacent(paulo_frontin,75))\n",
        " irati.add_adjacent(adjacent(sau_mateus_do_sul,57))\n",
        "\n",
        " palmeira.add_adjacent(adjacent(irati,151))\n",
        " palmeira.add_adjacent(adjacent(sau_mateus_do_sul,77))\n",
        " palmeira.add_adjacent(adjacent(campo_largo,55))\n",
        "\n",
        " campo_largo.add_adjacent(adjacent(porto_uniao,118))\n",
        " campo_largo.add_adjacent(adjacent(balsa_nova,111))\n",
        "\n",
        " balsa_nova.add_adjacent(adjacent(campo_largo,111))\n",
        " balsa_nova.add_adjacent(adjacent(contenda,70))\n",
        "\n",
        " contenda.add_adjacent(adjacent(balsa_nova,70))\n",
        " contenda.add_adjacent(adjacent(lapa,75))\n",
        "\n",
        " lapa.add_adjacent(adjacent(contenda,75))\n",
        " lapa.add_adjacent(adjacent(araucaria,120))\n",
        "\n",
        " araucaria.add_adjacent(adjacent(lapa,120))\n",
        " araucaria.add_adjacent(adjacent(curitiba,138))\n",
        " araucaria.add_adjacent(adjacent(tijuka_do_sul,146))\n",
        "\n",
        " tijuka_do_sul.add_adjacent(adjacent(araucaria,146))\n",
        " tijuka_do_sul.add_adjacent(adjacent(sau_jose_dos_pinhai,80))\n",
        " tijuka_do_sul.add_adjacent(adjacent(curitiba,97))\n",
        "\n",
        " sau_mateus_do_sul.add_adjacent(adjacent(irati,99))\n",
        " sau_mateus_do_sul.add_adjacent(adjacent(curitiba,211))\n",
        "\n",
        " curitiba.add_adjacent(adjacent(sau_mateus_do_sul,211))\n",
        " curitiba.add_adjacent(adjacent(araucaria,101))\n",
        " curitiba.add_adjacent(adjacent(sau_jose_dos_pinhai,90))"
      ],
      "metadata": {
        "id": "-XZhxanwLC-y"
      },
      "execution_count": 9,
      "outputs": []
    },
    {
      "cell_type": "code",
      "execution_count": 10,
      "metadata": {
        "id": "71eY9I8hF2y-"
      },
      "outputs": [],
      "source": [
        "import numpy as np"
      ]
    },
    {
      "cell_type": "code",
      "source": [
        "class ordervector:\n",
        "  def __init__(self,capacity):\n",
        "    self.capacity= capacity\n",
        "    self.last_position=-1\n",
        "    self.values=np.empty(self.capacity,dtype=object)\n",
        "\n",
        "  def print(self):\n",
        "    if(self.last_position==-1):\n",
        "      print(\"Empty array\")\n",
        "    else:\n",
        "      for i in range(self.last_position+1):\n",
        "        print(i,\" - \",self.values[i].label,'-',self.values[i].dist_obj)\n",
        "\n",
        "  def insert(self,vertex):\n",
        "    if self.last_position==self.capacity-1:\n",
        "      print(\"Array is full\")\n",
        "      return\n",
        "\n",
        "    position=0\n",
        "    for i in range(self.last_position+1):\n",
        "        position=i\n",
        "        if(self.values[i].dist_obj>vertex.dist_obj):\n",
        "          break\n",
        "        if(i==self.last_position):\n",
        "          position=i+1\n",
        "      ###rearranging left hand side elements\n",
        "    x=self.last_position\n",
        "    while(x>=position):\n",
        "        self.values[x+1]=self.values[x]\n",
        "        x-=1\n",
        "    self.values[position]=vertex\n",
        "    self.last_position+=1\n"
      ],
      "metadata": {
        "id": "hXD7e82nF_b9"
      },
      "execution_count": 11,
      "outputs": []
    },
    {
      "cell_type": "code",
      "source": [
        "array=ordervector(5)\n",
        "array.insert(graph.porto_uniao)\n",
        "array.insert(graph.paulo_frontin)\n",
        "array.insert(graph.irati)\n",
        "array.insert(graph.palmeira)\n",
        "array.insert(graph.lapa)\n",
        "array.print()"
      ],
      "metadata": {
        "colab": {
          "base_uri": "https://localhost:8080/"
        },
        "id": "FvCxBX5rnB3L",
        "outputId": "302d29a1-fcf7-40df-efe9-e41bc281b457"
      },
      "execution_count": 13,
      "outputs": [
        {
          "output_type": "stream",
          "name": "stdout",
          "text": [
            "0  -  palmeira - 59\n",
            "1  -  lapa - 74\n",
            "2  -  irati - 139\n",
            "3  -  paulo frontin - 172\n",
            "4  -  porto uniao - 203\n"
          ]
        }
      ]
    },
    {
      "cell_type": "code",
      "source": [
        "print(array),array.values[0].label,array.values[1].dist_obj"
      ],
      "metadata": {
        "colab": {
          "base_uri": "https://localhost:8080/"
        },
        "id": "Elx4Qd1gpyCA",
        "outputId": "2383c125-58cb-42f1-db56-2a4752402b87"
      },
      "execution_count": 14,
      "outputs": [
        {
          "output_type": "stream",
          "name": "stdout",
          "text": [
            "<__main__.ordervector object at 0x7ea290225a90>\n"
          ]
        },
        {
          "output_type": "execute_result",
          "data": {
            "text/plain": [
              "(None, 'palmeira', 74)"
            ]
          },
          "metadata": {},
          "execution_count": 14
        }
      ]
    },
    {
      "cell_type": "markdown",
      "source": [
        "##Greedy Search"
      ],
      "metadata": {
        "id": "sZOT3lT_s72-"
      }
    },
    {
      "cell_type": "code",
      "source": [
        "class greedy:\n",
        "  def __init__(self,objective):\n",
        "    self.objective=objective\n",
        "    self.found=False\n",
        "\n",
        "  def search(self,current):\n",
        "    print('-------')\n",
        "    print('current: {}'.format(current.label))\n",
        "    current.visited=True\n",
        "\n",
        "    if current==self.objective:\n",
        "      self.found=True\n",
        "    else:\n",
        "      ordered_array=ordervector(len(current.adjacent))\n",
        "      for adjacent in current.adjacent:\n",
        "        if adjacent.vertex.visited==False:\n",
        "          adjacent.vertex.visited=True\n",
        "          ordered_array.insert(adjacent.vertex)\n",
        "        ordered_array.print()\n",
        "\n",
        "        if ordered_array.values[0]!=None:\n",
        "          self.search(ordered_array.values[0])"
      ],
      "metadata": {
        "id": "gOnRM6qHs7bO"
      },
      "execution_count": 15,
      "outputs": []
    },
    {
      "cell_type": "code",
      "source": [
        "greedy_search=greedy(graph.curitiba)\n",
        "greedy_search.search(graph.porto_uniao)"
      ],
      "metadata": {
        "colab": {
          "base_uri": "https://localhost:8080/"
        },
        "id": "lHzRa0u2wNpx",
        "outputId": "1fa57d6b-73e4-4ca7-e3e2-1edc1696fa36"
      },
      "execution_count": 17,
      "outputs": [
        {
          "output_type": "stream",
          "name": "stdout",
          "text": [
            "-------\n",
            "current: porto uniao\n",
            "0  -  paulo frontin - 172\n",
            "-------\n",
            "current: paulo frontin\n",
            "Empty array\n",
            "0  -  irati - 139\n",
            "-------\n",
            "current: irati\n",
            "0  -  palmeira - 59\n",
            "-------\n",
            "current: palmeira\n",
            "Empty array\n",
            "0  -  sau mateus do sul - 123\n",
            "-------\n",
            "current: sau mateus do sul\n",
            "Empty array\n",
            "0  -  curitiba - 0\n",
            "-------\n",
            "current: curitiba\n",
            "0  -  campo largo - 27\n",
            "1  -  sau mateus do sul - 123\n",
            "-------\n",
            "current: campo largo\n",
            "Empty array\n",
            "0  -  balsa nova - 41\n",
            "-------\n",
            "current: balsa nova\n",
            "Empty array\n",
            "0  -  contenda - 39\n",
            "-------\n",
            "current: contenda\n",
            "Empty array\n",
            "0  -  lapa - 74\n",
            "-------\n",
            "current: lapa\n",
            "Empty array\n",
            "0  -  araucaria - 23\n",
            "-------\n",
            "current: araucaria\n",
            "Empty array\n",
            "Empty array\n",
            "0  -  tijuka do sul - 56\n",
            "-------\n",
            "current: tijuka do sul\n",
            "Empty array\n",
            "0  -  sau jose dos pinhais - 13\n",
            "-------\n",
            "current: sau jose dos pinhais\n",
            "0  -  sau jose dos pinhais - 13\n",
            "-------\n",
            "current: sau jose dos pinhais\n",
            "0  -  palmeira - 59\n",
            "-------\n",
            "current: palmeira\n",
            "Empty array\n",
            "Empty array\n",
            "Empty array\n",
            "0  -  palmeira - 59\n",
            "-------\n",
            "current: palmeira\n",
            "Empty array\n",
            "Empty array\n",
            "Empty array\n",
            "0  -  paulo frontin - 172\n",
            "-------\n",
            "current: paulo frontin\n",
            "Empty array\n",
            "Empty array\n",
            "0  -  canoinhas - 141\n",
            "1  -  paulo frontin - 172\n",
            "-------\n",
            "current: canoinhas\n"
          ]
        }
      ]
    }
  ]
}