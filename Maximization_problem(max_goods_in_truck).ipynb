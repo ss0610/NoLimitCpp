{
  "nbformat": 4,
  "nbformat_minor": 0,
  "metadata": {
    "colab": {
      "provenance": [],
      "authorship_tag": "ABX9TyPNqJ6ltpYKJG3+4neaJy3d",
      "include_colab_link": true
    },
    "kernelspec": {
      "name": "python3",
      "display_name": "Python 3"
    },
    "language_info": {
      "name": "python"
    }
  },
  "cells": [
    {
      "cell_type": "markdown",
      "metadata": {
        "id": "view-in-github",
        "colab_type": "text"
      },
      "source": [
        "<a href=\"https://colab.research.google.com/github/ss0610/NoLimitCpp/blob/main/Maximization_problem(max_goods_in_truck).ipynb\" target=\"_parent\"><img src=\"https://colab.research.google.com/assets/colab-badge.svg\" alt=\"Open In Colab\"/></a>"
      ]
    },
    {
      "cell_type": "code",
      "source": [
        "!git clone https://github.com/gkhayes/mlrose.git\n",
        "!pip install mlrose/."
      ],
      "metadata": {
        "colab": {
          "base_uri": "https://localhost:8080/"
        },
        "id": "AIr-XGmmPO7F",
        "outputId": "c863ac76-3fe6-4c7b-b226-5a9662d71ed8"
      },
      "execution_count": 14,
      "outputs": [
        {
          "output_type": "stream",
          "name": "stdout",
          "text": [
            "Cloning into 'mlrose'...\n",
            "remote: Enumerating objects: 853, done.\u001b[K\n",
            "remote: Counting objects: 100% (275/275), done.\u001b[K\n",
            "remote: Compressing objects: 100% (43/43), done.\u001b[K\n",
            "remote: Total 853 (delta 245), reused 232 (delta 232), pack-reused 578 (from 1)\u001b[K\n",
            "Receiving objects: 100% (853/853), 406.85 KiB | 2.86 MiB/s, done.\n",
            "Resolving deltas: 100% (554/554), done.\n",
            "Processing ./mlrose\n",
            "  Preparing metadata (setup.py) ... \u001b[?25l\u001b[?25hdone\n",
            "Requirement already satisfied: numpy in /usr/local/lib/python3.11/dist-packages (from mlrose==1.3.0) (2.0.2)\n",
            "Requirement already satisfied: scipy in /usr/local/lib/python3.11/dist-packages (from mlrose==1.3.0) (1.15.3)\n",
            "Requirement already satisfied: scikit-learn in /usr/local/lib/python3.11/dist-packages (from mlrose==1.3.0) (1.6.1)\n",
            "Requirement already satisfied: joblib>=1.2.0 in /usr/local/lib/python3.11/dist-packages (from scikit-learn->mlrose==1.3.0) (1.5.1)\n",
            "Requirement already satisfied: threadpoolctl>=3.1.0 in /usr/local/lib/python3.11/dist-packages (from scikit-learn->mlrose==1.3.0) (3.6.0)\n",
            "Building wheels for collected packages: mlrose\n",
            "  Building wheel for mlrose (setup.py) ... \u001b[?25l\u001b[?25hdone\n",
            "  Created wheel for mlrose: filename=mlrose-1.3.0-py3-none-any.whl size=27705 sha256=7a2bd5f7a338bc36e3f11f5ae8d8e638d784e6fd1109833f9b6aa57842352363\n",
            "  Stored in directory: /tmp/pip-ephem-wheel-cache-ng90g8lq/wheels/11/a6/5c/ac2f7ff47bd97646e839a8a0dbdf883f7d0c76c69a7580c39b\n",
            "Successfully built mlrose\n",
            "Installing collected packages: mlrose\n",
            "Successfully installed mlrose-1.3.0\n"
          ]
        }
      ]
    },
    {
      "cell_type": "code",
      "source": [
        "import six\n",
        "import sys\n",
        "sys.modules['sklearn.externals.six']=six\n",
        "import mlrose"
      ],
      "metadata": {
        "id": "fvZOxMsKOYyd"
      },
      "execution_count": 15,
      "outputs": []
    },
    {
      "cell_type": "markdown",
      "source": [
        "##Representing the problem"
      ],
      "metadata": {
        "id": "YEvmRk0PPdiJ"
      }
    },
    {
      "cell_type": "code",
      "source": [
        "products= [('Refrigerator A',0.751,999.90),\n",
        "           ('Cell phone',0.0000899,2911.12),\n",
        "           ('TV 55',0.400,4346.99),\n",
        "           ('TV 50',0.290,3999.90),\n",
        "           ('TV 42',0.200,2999.00),\n",
        "           ('Notebook A',0.00350,2499.90),\n",
        "           ('Fun',0.496,199.90),\n",
        "           ('Microwave A',0.0424,308.66),\n",
        "           ('Microwave B',0.0544,429.90),\n",
        "           ('Microwave C',0.0319,299.29),\n",
        "           ('Refrigerator B',0.635,849.89),\n",
        "           ('Refrigerator C',0.870,1199.90),\n",
        "           ('Notebook B',0.498,1999.90),\n",
        "           ('Notebook C',0.527,3999.00)]\n",
        "avl_space= 3"
      ],
      "metadata": {
        "id": "5VI2o6AhPU6L"
      },
      "execution_count": 17,
      "outputs": []
    },
    {
      "cell_type": "code",
      "source": [
        "products[0],products[0][0],products[0][1],products[0][2]"
      ],
      "metadata": {
        "colab": {
          "base_uri": "https://localhost:8080/"
        },
        "id": "fTm3JfoATzt1",
        "outputId": "84aae53f-296b-472b-84d5-b6a84da57268"
      },
      "execution_count": 18,
      "outputs": [
        {
          "output_type": "execute_result",
          "data": {
            "text/plain": [
              "(('Refrigerator A', 0.751, 999.9), 'Refrigerator A', 0.751, 999.9)"
            ]
          },
          "metadata": {},
          "execution_count": 18
        }
      ]
    },
    {
      "cell_type": "code",
      "source": [
        "def print_sol(solution):\n",
        "  for i in range(len(solution)):\n",
        "    if solution[i]==1:\n",
        "      print('%s - %s'%(products[i][0],products[i][2]))"
      ],
      "metadata": {
        "id": "hxnTj8MCUOh6"
      },
      "execution_count": 19,
      "outputs": []
    },
    {
      "cell_type": "code",
      "source": [
        "print_sol([0,1,0,1,0,0,1,0,1,0,1,1,0,1])"
      ],
      "metadata": {
        "colab": {
          "base_uri": "https://localhost:8080/"
        },
        "id": "6_C2LUjBVG-k",
        "outputId": "dcedc239-5a1d-4f92-e0cd-3dcbc154aaad"
      },
      "execution_count": 22,
      "outputs": [
        {
          "output_type": "stream",
          "name": "stdout",
          "text": [
            "Cell phone - 2911.12\n",
            "TV 50 - 3999.9\n",
            "Fun - 199.9\n",
            "Microwave B - 429.9\n",
            "Refrigerator B - 849.89\n",
            "Refrigerator C - 1199.9\n",
            "Notebook C - 3999.0\n"
          ]
        }
      ]
    },
    {
      "cell_type": "code",
      "source": [
        "def fitness_func(solution):\n",
        "  cost=0\n",
        "  sum_of_space=0\n",
        "  for i in range(len(solution)):\n",
        "    if solution[i]==1:\n",
        "      sum_of_space+=products[i][1]\n",
        "      cost+=products[i][2]\n",
        "  if sum_of_space>avl_space:\n",
        "    cost=1\n",
        "  return cost"
      ],
      "metadata": {
        "id": "XA4sPG1jUaug"
      },
      "execution_count": 20,
      "outputs": []
    },
    {
      "cell_type": "code",
      "source": [
        "fitness_func([0,1,0,1,0,0,1,0,1,0,1,1,0,1])"
      ],
      "metadata": {
        "colab": {
          "base_uri": "https://localhost:8080/"
        },
        "id": "aG93zHj3UxMX",
        "outputId": "9c6d411e-3aa1-475d-b0d2-c73e3d303c31"
      },
      "execution_count": 21,
      "outputs": [
        {
          "output_type": "execute_result",
          "data": {
            "text/plain": [
              "13589.609999999999"
            ]
          },
          "metadata": {},
          "execution_count": 21
        }
      ]
    },
    {
      "cell_type": "code",
      "source": [
        "fitness=mlrose.CustomFitness(fitness_func)"
      ],
      "metadata": {
        "id": "Lim7PnIVVR56"
      },
      "execution_count": 23,
      "outputs": []
    },
    {
      "cell_type": "code",
      "source": [
        "problem=mlrose.DiscreteOpt(length=14,fitness_fn=fitness,maximize=True,max_val=2)"
      ],
      "metadata": {
        "id": "LKvw8RaAVY4A"
      },
      "execution_count": 24,
      "outputs": []
    },
    {
      "cell_type": "markdown",
      "source": [
        "###Hill Climb"
      ],
      "metadata": {
        "id": "-6kbH2szVjZV"
      }
    },
    {
      "cell_type": "code",
      "source": [
        "best_solution,best_cost=mlrose.hill_climb(problem,random_state=1)\n",
        "best_solution,best_cost"
      ],
      "metadata": {
        "colab": {
          "base_uri": "https://localhost:8080/"
        },
        "id": "PrtKbcQjVire",
        "outputId": "41d71952-1122-4bde-a324-9a4542cde2ce"
      },
      "execution_count": 25,
      "outputs": [
        {
          "output_type": "execute_result",
          "data": {
            "text/plain": [
              "(array([1, 1, 0, 0, 1, 1, 1, 1, 1, 1, 0, 1, 0, 1]), 15846.57)"
            ]
          },
          "metadata": {},
          "execution_count": 25
        }
      ]
    },
    {
      "cell_type": "code",
      "source": [
        "print_sol(best_solution)"
      ],
      "metadata": {
        "colab": {
          "base_uri": "https://localhost:8080/"
        },
        "id": "1TfJgIHPV4B6",
        "outputId": "d4a5157b-dfb4-4f8c-df59-24962112d45e"
      },
      "execution_count": 26,
      "outputs": [
        {
          "output_type": "stream",
          "name": "stdout",
          "text": [
            "Refrigerator A - 999.9\n",
            "Cell phone - 2911.12\n",
            "TV 42 - 2999.0\n",
            "Notebook A - 2499.9\n",
            "Fun - 199.9\n",
            "Microwave A - 308.66\n",
            "Microwave B - 429.9\n",
            "Microwave C - 299.29\n",
            "Refrigerator C - 1199.9\n",
            "Notebook C - 3999.0\n"
          ]
        }
      ]
    },
    {
      "cell_type": "markdown",
      "source": [
        "###Simulated Annealing"
      ],
      "metadata": {
        "id": "KNU-JFj6V96C"
      }
    },
    {
      "cell_type": "code",
      "source": [
        "best_solution,best_cost=mlrose.simulated_annealing(problem,max_attempts=10,random_state=0)\n",
        "best_solution,best_cost"
      ],
      "metadata": {
        "colab": {
          "base_uri": "https://localhost:8080/"
        },
        "id": "jaz0BVBPV9Rm",
        "outputId": "51b6be6e-39ec-4e76-d8c4-b7fe364db038"
      },
      "execution_count": 27,
      "outputs": [
        {
          "output_type": "stream",
          "name": "stderr",
          "text": [
            "/usr/local/lib/python3.11/dist-packages/mlrose/algorithms.py:311: RuntimeWarning: overflow encountered in exp\n",
            "  prob = np.exp(delta_e/temp)\n"
          ]
        },
        {
          "output_type": "execute_result",
          "data": {
            "text/plain": [
              "(array([1, 1, 1, 1, 1, 1, 0, 1, 1, 1, 1, 0, 0, 1]), 23643.550000000003)"
            ]
          },
          "metadata": {},
          "execution_count": 27
        }
      ]
    },
    {
      "cell_type": "code",
      "source": [
        "print_sol(best_solution)"
      ],
      "metadata": {
        "colab": {
          "base_uri": "https://localhost:8080/"
        },
        "id": "yW-qUV7GWY6W",
        "outputId": "303c5973-9e9b-4972-cc14-05fe8a4351bb"
      },
      "execution_count": 28,
      "outputs": [
        {
          "output_type": "stream",
          "name": "stdout",
          "text": [
            "Refrigerator A - 999.9\n",
            "Cell phone - 2911.12\n",
            "TV 55 - 4346.99\n",
            "TV 50 - 3999.9\n",
            "TV 42 - 2999.0\n",
            "Notebook A - 2499.9\n",
            "Microwave A - 308.66\n",
            "Microwave B - 429.9\n",
            "Microwave C - 299.29\n",
            "Refrigerator B - 849.89\n",
            "Notebook C - 3999.0\n"
          ]
        }
      ]
    },
    {
      "cell_type": "markdown",
      "source": [
        "###Genetic Algorithm"
      ],
      "metadata": {
        "id": "NxwOTIPGWceo"
      }
    },
    {
      "cell_type": "code",
      "source": [
        "best_solution,best_cost=mlrose.genetic_alg(problem,pop_size=500,mutation_prob=0.2,random_state=1)\n",
        "best_solution,best_cost"
      ],
      "metadata": {
        "colab": {
          "base_uri": "https://localhost:8080/"
        },
        "id": "sCJ0VtHzWb95",
        "outputId": "404db460-f2fc-420b-e2aa-06e55e4959b5"
      },
      "execution_count": 29,
      "outputs": [
        {
          "output_type": "execute_result",
          "data": {
            "text/plain": [
              "(array([0, 1, 1, 1, 1, 1, 0, 1, 1, 1, 0, 1, 1, 1]), 24993.560000000005)"
            ]
          },
          "metadata": {},
          "execution_count": 29
        }
      ]
    },
    {
      "cell_type": "code",
      "source": [
        "print_sol(best_solution)"
      ],
      "metadata": {
        "colab": {
          "base_uri": "https://localhost:8080/"
        },
        "id": "dVloIZHYWsCE",
        "outputId": "85c9c323-4330-4611-cb79-c9f0676295fa"
      },
      "execution_count": 30,
      "outputs": [
        {
          "output_type": "stream",
          "name": "stdout",
          "text": [
            "Cell phone - 2911.12\n",
            "TV 55 - 4346.99\n",
            "TV 50 - 3999.9\n",
            "TV 42 - 2999.0\n",
            "Notebook A - 2499.9\n",
            "Microwave A - 308.66\n",
            "Microwave B - 429.9\n",
            "Microwave C - 299.29\n",
            "Refrigerator C - 1199.9\n",
            "Notebook B - 1999.9\n",
            "Notebook C - 3999.0\n"
          ]
        }
      ]
    }
  ]
}