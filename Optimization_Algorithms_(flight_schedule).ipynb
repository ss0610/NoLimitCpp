{
  "nbformat": 4,
  "nbformat_minor": 0,
  "metadata": {
    "colab": {
      "provenance": [],
      "include_colab_link": true
    },
    "kernelspec": {
      "name": "python3",
      "display_name": "Python 3"
    }
  },
  "cells": [
    {
      "cell_type": "markdown",
      "metadata": {
        "id": "view-in-github",
        "colab_type": "text"
      },
      "source": [
        "<a href=\"https://colab.research.google.com/github/ss0610/NoLimitCpp/blob/main/Optimization_Algorithms_(flight_schedule).ipynb\" target=\"_parent\"><img src=\"https://colab.research.google.com/assets/colab-badge.svg\" alt=\"Open In Colab\"/></a>"
      ]
    },
    {
      "cell_type": "markdown",
      "metadata": {
        "id": "lmY8JVlQxXjj"
      },
      "source": [
        "# Optimization Algorithms - flight schedule"
      ]
    },
    {
      "cell_type": "markdown",
      "metadata": {
        "id": "iA6XSNeifEB0"
      },
      "source": [
        "## Representing the problem"
      ]
    },
    {
      "cell_type": "code",
      "source": [
        "people = [('Lisbon', 'LIS'),\n",
        "          ('Madrid', 'MAD'),\n",
        "          ('Paris', 'CDG'),\n",
        "          ('Dublin', 'DUB'),\n",
        "          ('Brussels', 'BRU'),\n",
        "          ('London', 'LHR')]"
      ],
      "metadata": {
        "id": "9wYA5UuDaqYF"
      },
      "execution_count": null,
      "outputs": []
    },
    {
      "cell_type": "code",
      "source": [
        "people[3]"
      ],
      "metadata": {
        "colab": {
          "base_uri": "https://localhost:8080/"
        },
        "id": "c7Dz8lTCbXHk",
        "outputId": "c2634d0e-afe5-4d67-f01e-4bcbe32cd55b"
      },
      "execution_count": null,
      "outputs": [
        {
          "output_type": "execute_result",
          "data": {
            "text/plain": [
              "('Dublin', 'DUB')"
            ]
          },
          "metadata": {},
          "execution_count": 2
        }
      ]
    },
    {
      "cell_type": "code",
      "source": [
        "destiny = 'FCO' # Rome"
      ],
      "metadata": {
        "id": "CStfwpe9bial"
      },
      "execution_count": null,
      "outputs": []
    },
    {
      "cell_type": "code",
      "source": [
        "flights = {('BRU', 'FCO'): ['15:44', '18:55', 382]}"
      ],
      "metadata": {
        "id": "0Rhg8FOTdMAE"
      },
      "execution_count": null,
      "outputs": []
    },
    {
      "cell_type": "code",
      "source": [
        "flights"
      ],
      "metadata": {
        "colab": {
          "base_uri": "https://localhost:8080/"
        },
        "id": "SRXxwflJddce",
        "outputId": "4efae8ef-438b-4e28-f89b-03198bbcc678"
      },
      "execution_count": null,
      "outputs": [
        {
          "output_type": "execute_result",
          "data": {
            "text/plain": [
              "{('BRU', 'FCO'): ['15:44', '18:55', 382]}"
            ]
          },
          "metadata": {},
          "execution_count": 5
        }
      ]
    },
    {
      "cell_type": "code",
      "source": [
        "flights[('BRU', 'FCO')]"
      ],
      "metadata": {
        "colab": {
          "base_uri": "https://localhost:8080/"
        },
        "id": "VjicsmmEdj4v",
        "outputId": "aee2966f-ebc4-4978-fe6f-8a3ac17b2cd2"
      },
      "execution_count": null,
      "outputs": [
        {
          "output_type": "execute_result",
          "data": {
            "text/plain": [
              "['15:44', '18:55', 382]"
            ]
          },
          "metadata": {},
          "execution_count": 6
        }
      ]
    },
    {
      "cell_type": "code",
      "source": [
        "flights[('BRU', 'FCO')][0], flights[('BRU', 'FCO')][1], flights[('BRU', 'FCO')][2]"
      ],
      "metadata": {
        "colab": {
          "base_uri": "https://localhost:8080/"
        },
        "id": "BZ44rXEbd09l",
        "outputId": "252e1341-af65-4e74-88e0-b7f1795c6eff"
      },
      "execution_count": null,
      "outputs": [
        {
          "output_type": "execute_result",
          "data": {
            "text/plain": [
              "('15:44', '18:55', 382)"
            ]
          },
          "metadata": {},
          "execution_count": 7
        }
      ]
    },
    {
      "cell_type": "code",
      "source": [
        "flights = {}\n",
        "for row in open('/content/flights.txt'):\n",
        "  #print(row)\n",
        "  #print(row.split(','))\n",
        "  origin, destination, depart, arrival, price = row.split(',')\n",
        "  #print(origin, destination, depart, arrival, price)\n",
        "  flights.setdefault((origin, destination), [])\n",
        "  flights[(origin, destination)].append((depart, arrival, int(price)))"
      ],
      "metadata": {
        "id": "pq3CKIvqcPxr"
      },
      "execution_count": null,
      "outputs": []
    },
    {
      "cell_type": "code",
      "source": [
        "flights"
      ],
      "metadata": {
        "colab": {
          "base_uri": "https://localhost:8080/"
        },
        "id": "8TkCabeNegbl",
        "outputId": "8be34e19-a2f5-4bf1-8c2b-499fca200fb4"
      },
      "execution_count": null,
      "outputs": [
        {
          "output_type": "execute_result",
          "data": {
            "text/plain": [
              "{('FCO', 'LIS'): [('6:19', '8:13', 239),\n",
              "  ('8:04', '10:59', 136),\n",
              "  ('9:31', '11:43', 210),\n",
              "  ('11:07', '13:24', 171),\n",
              "  ('12:31', '14:02', 234),\n",
              "  ('14:05', '15:47', 226),\n",
              "  ('15:07', '17:21', 129),\n",
              "  ('16:35', '18:56', 144),\n",
              "  ('18:25', '20:34', 205),\n",
              "  ('20:05', '21:44', 172)],\n",
              " ('LIS', 'FCO'): [('6:11', '8:31', 249),\n",
              "  ('7:39', '10:24', 219),\n",
              "  ('9:15', '12:03', 99),\n",
              "  ('11:08', '13:07', 175),\n",
              "  ('12:18', '14:56', 172),\n",
              "  ('13:37', '15:08', 250),\n",
              "  ('15:03', '16:42', 135),\n",
              "  ('16:51', '19:09', 147),\n",
              "  ('18:12', '20:17', 242),\n",
              "  ('20:05', '22:06', 261)],\n",
              " ('FCO', 'MAD'): [('6:03', '8:43', 219),\n",
              "  ('7:50', '10:08', 164),\n",
              "  ('9:11', '10:42', 172),\n",
              "  ('10:33', '13:11', 132),\n",
              "  ('12:08', '14:47', 231),\n",
              "  ('14:19', '17:09', 190),\n",
              "  ('15:04', '17:23', 189),\n",
              "  ('17:06', '20:00', 95),\n",
              "  ('18:33', '20:22', 143),\n",
              "  ('19:32', '21:25', 160)],\n",
              " ('MAD', 'FCO'): [('6:05', '8:32', 174),\n",
              "  ('8:25', '10:34', 157),\n",
              "  ('9:42', '11:32', 169),\n",
              "  ('11:01', '12:39', 260),\n",
              "  ('12:44', '14:17', 134),\n",
              "  ('14:22', '16:32', 126),\n",
              "  ('15:58', '18:40', 173),\n",
              "  ('16:43', '19:00', 246),\n",
              "  ('18:48', '21:45', 246),\n",
              "  ('19:50', '22:24', 269)],\n",
              " ('FCO', 'CDG'): [('6:33', '9:14', 172),\n",
              "  ('8:23', '11:07', 143),\n",
              "  ('9:25', '12:46', 295),\n",
              "  ('11:08', '14:38', 262),\n",
              "  ('12:37', '15:05', 170),\n",
              "  ('14:08', '16:09', 232),\n",
              "  ('15:23', '18:49', 150),\n",
              "  ('16:50', '19:26', 304),\n",
              "  ('18:07', '21:30', 355),\n",
              "  ('20:27', '23:42', 169)],\n",
              " ('CDG', 'FCO'): [('6:25', '9:30', 335),\n",
              "  ('7:34', '9:40', 324),\n",
              "  ('9:15', '12:29', 225),\n",
              "  ('11:28', '14:40', 248),\n",
              "  ('12:05', '15:30', 330),\n",
              "  ('14:01', '17:24', 338),\n",
              "  ('15:34', '18:11', 326),\n",
              "  ('17:07', '20:04', 291),\n",
              "  ('18:23', '21:35', 134),\n",
              "  ('19:53', '22:21', 173)],\n",
              " ('FCO', 'DUB'): [('6:39', '8:09', 86),\n",
              "  ('8:23', '10:28', 149),\n",
              "  ('9:58', '11:18', 130),\n",
              "  ('10:33', '12:03', 74),\n",
              "  ('12:08', '14:05', 142),\n",
              "  ('13:39', '15:30', 74),\n",
              "  ('15:25', '16:58', 62),\n",
              "  ('17:03', '18:03', 103),\n",
              "  ('18:24', '20:49', 124),\n",
              "  ('19:58', '21:23', 142)],\n",
              " ('DUB', 'FCO'): [('6:17', '8:26', 89),\n",
              "  ('8:04', '10:11', 95),\n",
              "  ('9:45', '11:50', 172),\n",
              "  ('11:16', '13:29', 83),\n",
              "  ('12:34', '15:02', 109),\n",
              "  ('13:40', '15:37', 138),\n",
              "  ('15:27', '17:18', 151),\n",
              "  ('17:11', '18:30', 108),\n",
              "  ('18:34', '19:36', 136),\n",
              "  ('20:17', '22:22', 102)],\n",
              " ('FCO', 'BRU'): [('6:09', '9:49', 414),\n",
              "  ('7:57', '11:15', 347),\n",
              "  ('9:49', '13:51', 229),\n",
              "  ('10:51', '14:16', 256),\n",
              "  ('12:20', '16:34', 500),\n",
              "  ('14:20', '17:32', 332),\n",
              "  ('15:49', '20:10', 497),\n",
              "  ('17:14', '20:59', 277),\n",
              "  ('18:44', '22:42', 351),\n",
              "  ('19:57', '23:15', 512)],\n",
              " ('BRU', 'FCO'): [('6:12', '10:22', 230),\n",
              "  ('7:53', '11:37', 433),\n",
              "  ('9:08', '12:12', 364),\n",
              "  ('10:30', '14:57', 290),\n",
              "  ('12:19', '15:25', 342),\n",
              "  ('13:54', '18:02', 294),\n",
              "  ('15:44', '18:55', 382),\n",
              "  ('16:52', '20:48', 448),\n",
              "  ('18:26', '21:29', 464),\n",
              "  ('20:07', '23:27', 473)],\n",
              " ('FCO', 'LHR'): [('6:58', '9:01', 238),\n",
              "  ('8:19', '11:16', 122),\n",
              "  ('9:58', '12:56', 249),\n",
              "  ('10:32', '13:16', 139),\n",
              "  ('12:01', '13:41', 267),\n",
              "  ('13:37', '15:33', 142),\n",
              "  ('15:50', '18:45', 243),\n",
              "  ('16:33', '18:15', 253),\n",
              "  ('18:17', '21:04', 259),\n",
              "  ('19:46', '21:45', 214)],\n",
              " ('LHR', 'FCO'): [('6:08', '8:06', 224),\n",
              "  ('8:27', '10:45', 139),\n",
              "  ('9:15', '12:14', 247),\n",
              "  ('10:53', '13:36', 189),\n",
              "  ('12:08', '14:59', 149),\n",
              "  ('13:40', '15:38', 137),\n",
              "  ('15:23', '17:25', 232),\n",
              "  ('17:08', '19:08', 262),\n",
              "  ('18:35', '20:28', 204),\n",
              "  ('20:30', '23:11', 114)]}"
            ]
          },
          "metadata": {},
          "execution_count": 9
        }
      ]
    },
    {
      "cell_type": "code",
      "source": [
        "flights[('LIS', 'FCO')]"
      ],
      "metadata": {
        "colab": {
          "base_uri": "https://localhost:8080/"
        },
        "id": "S67-aQjqe1JO",
        "outputId": "d3d6d39b-17e1-430a-f5b7-79ac0f6c96e8"
      },
      "execution_count": null,
      "outputs": [
        {
          "output_type": "execute_result",
          "data": {
            "text/plain": [
              "[('6:11', '8:31', 249),\n",
              " ('7:39', '10:24', 219),\n",
              " ('9:15', '12:03', 99),\n",
              " ('11:08', '13:07', 175),\n",
              " ('12:18', '14:56', 172),\n",
              " ('13:37', '15:08', 250),\n",
              " ('15:03', '16:42', 135),\n",
              " ('16:51', '19:09', 147),\n",
              " ('18:12', '20:17', 242),\n",
              " ('20:05', '22:06', 261)]"
            ]
          },
          "metadata": {},
          "execution_count": 10
        }
      ]
    },
    {
      "cell_type": "code",
      "source": [
        "flights[('FCO', 'LIS')]"
      ],
      "metadata": {
        "colab": {
          "base_uri": "https://localhost:8080/"
        },
        "id": "KYLgUjMse80N",
        "outputId": "49d27621-e609-4f55-ffe1-5a18a4b18aee"
      },
      "execution_count": null,
      "outputs": [
        {
          "output_type": "execute_result",
          "data": {
            "text/plain": [
              "[('6:19', '8:13', 239),\n",
              " ('8:04', '10:59', 136),\n",
              " ('9:31', '11:43', 210),\n",
              " ('11:07', '13:24', 171),\n",
              " ('12:31', '14:02', 234),\n",
              " ('14:05', '15:47', 226),\n",
              " ('15:07', '17:21', 129),\n",
              " ('16:35', '18:56', 144),\n",
              " ('18:25', '20:34', 205),\n",
              " ('20:05', '21:44', 172)]"
            ]
          },
          "metadata": {},
          "execution_count": 11
        }
      ]
    },
    {
      "cell_type": "code",
      "source": [
        "flights[('MAD', 'FCO')]"
      ],
      "metadata": {
        "colab": {
          "base_uri": "https://localhost:8080/"
        },
        "id": "TIGk9gD0gueB",
        "outputId": "a8b6cee6-76e5-44dd-fbb2-8d7665638112"
      },
      "execution_count": null,
      "outputs": [
        {
          "output_type": "execute_result",
          "data": {
            "text/plain": [
              "[('6:05', '8:32', 174),\n",
              " ('8:25', '10:34', 157),\n",
              " ('9:42', '11:32', 169),\n",
              " ('11:01', '12:39', 260),\n",
              " ('12:44', '14:17', 134),\n",
              " ('14:22', '16:32', 126),\n",
              " ('15:58', '18:40', 173),\n",
              " ('16:43', '19:00', 246),\n",
              " ('18:48', '21:45', 246),\n",
              " ('19:50', '22:24', 269)]"
            ]
          },
          "metadata": {},
          "execution_count": 12
        }
      ]
    },
    {
      "cell_type": "code",
      "source": [
        "flights[('FCO', 'MAD')]"
      ],
      "metadata": {
        "colab": {
          "base_uri": "https://localhost:8080/"
        },
        "id": "5IkYW2Tag1Ea",
        "outputId": "77db4fc8-558c-492a-b502-754b4b0738aa"
      },
      "execution_count": null,
      "outputs": [
        {
          "output_type": "execute_result",
          "data": {
            "text/plain": [
              "[('6:03', '8:43', 219),\n",
              " ('7:50', '10:08', 164),\n",
              " ('9:11', '10:42', 172),\n",
              " ('10:33', '13:11', 132),\n",
              " ('12:08', '14:47', 231),\n",
              " ('14:19', '17:09', 190),\n",
              " ('15:04', '17:23', 189),\n",
              " ('17:06', '20:00', 95),\n",
              " ('18:33', '20:22', 143),\n",
              " ('19:32', '21:25', 160)]"
            ]
          },
          "metadata": {},
          "execution_count": 13
        }
      ]
    },
    {
      "cell_type": "code",
      "source": [
        "schedule = [0,2, 3,2, 5,3, 6,3, 1,4, 5,3]\n",
        "len(schedule)"
      ],
      "metadata": {
        "colab": {
          "base_uri": "https://localhost:8080/"
        },
        "id": "nQzChFOjf-L5",
        "outputId": "27011072-320c-4409-c9da-25672d572038"
      },
      "execution_count": null,
      "outputs": [
        {
          "output_type": "execute_result",
          "data": {
            "text/plain": [
              "12"
            ]
          },
          "metadata": {},
          "execution_count": 14
        }
      ]
    },
    {
      "cell_type": "code",
      "source": [
        "len(schedule) // 2"
      ],
      "metadata": {
        "colab": {
          "base_uri": "https://localhost:8080/"
        },
        "id": "KP4chMyyhHnJ",
        "outputId": "6f9a264e-16f7-484e-a92e-5baeac503496"
      },
      "execution_count": null,
      "outputs": [
        {
          "output_type": "execute_result",
          "data": {
            "text/plain": [
              "6"
            ]
          },
          "metadata": {},
          "execution_count": 15
        }
      ]
    },
    {
      "cell_type": "code",
      "source": [
        "def print_schedule(schedule):\n",
        "  flight_id = -1\n",
        "  total_price = 0\n",
        "  for i in range(len(schedule) // 2):\n",
        "    name = people[i][0]\n",
        "    origin = people[i][1]\n",
        "    flight_id += 1\n",
        "    go = flights[(origin, destiny)][schedule[flight_id]]\n",
        "    total_price += go[2]\n",
        "    flight_id += 1\n",
        "    ret = flights[(destiny, origin)][schedule[flight_id]]\n",
        "    total_price += ret[2]\n",
        "\n",
        "    print('%10s%10s %5s-%5s %3s %5s-%5s %3s' % (name, origin, go[0], go[1], go[2],\n",
        "                                                ret[0], ret[1], ret[2]))\n",
        "\n",
        "\n",
        "    #print(name, origin, go)\n",
        "  print('Total price: ', total_price)"
      ],
      "metadata": {
        "id": "T2EVsY_QhRSd"
      },
      "execution_count": null,
      "outputs": []
    },
    {
      "cell_type": "code",
      "source": [
        "print_schedule(schedule)"
      ],
      "metadata": {
        "colab": {
          "base_uri": "https://localhost:8080/"
        },
        "id": "8HRfTaaZiCB_",
        "outputId": "e10a6165-6a02-40d5-e930-69b6ae712b9c"
      },
      "execution_count": null,
      "outputs": [
        {
          "output_type": "stream",
          "name": "stdout",
          "text": [
            "    Lisbon       LIS  6:11- 8:31 249  9:31-11:43 210\n",
            "    Madrid       MAD 11:01-12:39 260  9:11-10:42 172\n",
            "     Paris       CDG 14:01-17:24 338 11:08-14:38 262\n",
            "    Dublin       DUB 15:27-17:18 151 10:33-12:03  74\n",
            "  Brussels       BRU  7:53-11:37 433 12:20-16:34 500\n",
            "    London       LHR 13:40-15:38 137 10:32-13:16 139\n",
            "Total price:  2925\n"
          ]
        }
      ]
    },
    {
      "cell_type": "code",
      "source": [
        "10**12"
      ],
      "metadata": {
        "id": "A97bZySdkqXy",
        "outputId": "d645e22e-45c6-447e-dce0-ea41a52f8be3",
        "colab": {
          "base_uri": "https://localhost:8080/"
        }
      },
      "execution_count": null,
      "outputs": [
        {
          "output_type": "execute_result",
          "data": {
            "text/plain": [
              "1000000000000"
            ]
          },
          "metadata": {},
          "execution_count": 18
        }
      ]
    },
    {
      "cell_type": "markdown",
      "metadata": {
        "id": "GqqEtILuYaj-"
      },
      "source": [
        "## Fitness function"
      ]
    },
    {
      "cell_type": "code",
      "source": [
        "def fitness_function(schedule):\n",
        "  flight_id = -1\n",
        "  total_price = 0\n",
        "  for i in range(len(schedule) // 2):\n",
        "    name = people[i][0]\n",
        "    origin = people[i][1]\n",
        "    flight_id += 1\n",
        "    go = flights[(origin, destiny)][schedule[flight_id]]\n",
        "    total_price += go[2]\n",
        "    flight_id += 1\n",
        "    ret = flights[(destiny, origin)][schedule[flight_id]]\n",
        "    total_price += ret[2]\n",
        "\n",
        "  return total_price"
      ],
      "metadata": {
        "id": "rFd3-gxYQ7pk"
      },
      "execution_count": null,
      "outputs": []
    },
    {
      "cell_type": "code",
      "source": [
        "schedule = [1,7, 3,1, 1,1, 6,3, 2,4, 5,3]\n",
        "fitness_function(schedule)"
      ],
      "metadata": {
        "colab": {
          "base_uri": "https://localhost:8080/"
        },
        "id": "aHAORJDNRRS0",
        "outputId": "87db456e-6a01-478c-de43-4bd8ed30b788"
      },
      "execution_count": null,
      "outputs": [
        {
          "output_type": "execute_result",
          "data": {
            "text/plain": [
              "2619"
            ]
          },
          "metadata": {},
          "execution_count": 20
        }
      ]
    },
    {
      "cell_type": "code",
      "source": [
        "# UPDATE JUNE/2024\n",
        "# !pip install mlrose\n",
        "!git clone https://github.com/gkhayes/mlrose.git\n",
        "!pip install mlrose/."
      ],
      "metadata": {
        "colab": {
          "base_uri": "https://localhost:8080/"
        },
        "id": "l7rA8PzcRp0C",
        "outputId": "4ca8e8eb-2e90-4833-e6ec-9c842b06d454"
      },
      "execution_count": null,
      "outputs": [
        {
          "output_type": "stream",
          "name": "stdout",
          "text": [
            "fatal: destination path 'mlrose' already exists and is not an empty directory.\n",
            "Processing ./mlrose\n",
            "  Preparing metadata (setup.py) ... \u001b[?25l\u001b[?25hdone\n",
            "Requirement already satisfied: numpy in /usr/local/lib/python3.10/dist-packages (from mlrose==1.3.0) (1.25.2)\n",
            "Requirement already satisfied: scipy in /usr/local/lib/python3.10/dist-packages (from mlrose==1.3.0) (1.11.4)\n",
            "Requirement already satisfied: scikit-learn in /usr/local/lib/python3.10/dist-packages (from mlrose==1.3.0) (1.2.2)\n",
            "Requirement already satisfied: joblib>=1.1.1 in /usr/local/lib/python3.10/dist-packages (from scikit-learn->mlrose==1.3.0) (1.4.2)\n",
            "Requirement already satisfied: threadpoolctl>=2.0.0 in /usr/local/lib/python3.10/dist-packages (from scikit-learn->mlrose==1.3.0) (3.5.0)\n",
            "Building wheels for collected packages: mlrose\n",
            "  Building wheel for mlrose (setup.py) ... \u001b[?25l\u001b[?25hdone\n",
            "  Created wheel for mlrose: filename=mlrose-1.3.0-py3-none-any.whl size=27710 sha256=12f853f6370bec17812f8effdb5d7c08e73cd911b9c060ecf05b532ec3be1a8c\n",
            "  Stored in directory: /tmp/pip-ephem-wheel-cache-b17it3te/wheels/50/ac/56/a248001dcf63344fbef992039dec2613cb4a7c56222c6f9a92\n",
            "Successfully built mlrose\n",
            "Installing collected packages: mlrose\n",
            "  Attempting uninstall: mlrose\n",
            "    Found existing installation: mlrose 1.3.0\n",
            "    Uninstalling mlrose-1.3.0:\n",
            "      Successfully uninstalled mlrose-1.3.0\n",
            "Successfully installed mlrose-1.3.0\n"
          ]
        }
      ]
    },
    {
      "cell_type": "code",
      "source": [
        "import six\n",
        "import sys\n",
        "sys.modules['sklearn.externals.six'] = six\n",
        "import mlrose"
      ],
      "metadata": {
        "id": "B-Zid-NzS03J"
      },
      "execution_count": null,
      "outputs": []
    },
    {
      "cell_type": "code",
      "source": [
        "fitness = mlrose.CustomFitness(fitness_function)"
      ],
      "metadata": {
        "id": "8cpKzRC_TMuL"
      },
      "execution_count": null,
      "outputs": []
    },
    {
      "cell_type": "code",
      "source": [
        "problem = mlrose.DiscreteOpt(length = 12, fitness_fn=fitness,\n",
        "                             maximize = False, max_val = 10) # 0 - 9"
      ],
      "metadata": {
        "id": "_-7eYZSvTVF_"
      },
      "execution_count": null,
      "outputs": []
    },
    {
      "cell_type": "markdown",
      "metadata": {
        "id": "pMo4HJcsnGVT"
      },
      "source": [
        "## Hill climb"
      ]
    },
    {
      "cell_type": "code",
      "source": [
        "best_solution, best_price = mlrose.hill_climb(problem)\n",
        "best_solution, best_price"
      ],
      "metadata": {
        "colab": {
          "base_uri": "https://localhost:8080/"
        },
        "id": "K1zOSVaFZvKx",
        "outputId": "a05ce695-a26f-4d54-a379-023e75ded7a2"
      },
      "execution_count": null,
      "outputs": [
        {
          "output_type": "execute_result",
          "data": {
            "text/plain": [
              "(array([2, 6, 5, 7, 8, 1, 3, 6, 0, 2, 9, 1]), 1566.0)"
            ]
          },
          "metadata": {},
          "execution_count": 25
        }
      ]
    },
    {
      "cell_type": "code",
      "source": [
        "print_schedule(best_solution)"
      ],
      "metadata": {
        "colab": {
          "base_uri": "https://localhost:8080/"
        },
        "id": "gvFzAn1aamb3",
        "outputId": "b484025b-2d6e-4f62-f551-3cd55c4d1b1a"
      },
      "execution_count": null,
      "outputs": [
        {
          "output_type": "stream",
          "name": "stdout",
          "text": [
            "    Lisbon       LIS  9:15-12:03  99 15:07-17:21 129\n",
            "    Madrid       MAD 14:22-16:32 126 17:06-20:00  95\n",
            "     Paris       CDG 18:23-21:35 134  8:23-11:07 143\n",
            "    Dublin       DUB 11:16-13:29  83 15:25-16:58  62\n",
            "  Brussels       BRU  6:12-10:22 230  9:49-13:51 229\n",
            "    London       LHR 20:30-23:11 114  8:19-11:16 122\n",
            "Total price:  1566\n"
          ]
        }
      ]
    },
    {
      "cell_type": "code",
      "source": [
        "flights[('BRU', 'FCO')]"
      ],
      "metadata": {
        "colab": {
          "base_uri": "https://localhost:8080/"
        },
        "id": "5rarGBJkbCLu",
        "outputId": "224a9437-0f34-44b0-dfe9-1a706cb4602a"
      },
      "execution_count": null,
      "outputs": [
        {
          "output_type": "execute_result",
          "data": {
            "text/plain": [
              "[('6:12', '10:22', 230),\n",
              " ('7:53', '11:37', 433),\n",
              " ('9:08', '12:12', 364),\n",
              " ('10:30', '14:57', 290),\n",
              " ('12:19', '15:25', 342),\n",
              " ('13:54', '18:02', 294),\n",
              " ('15:44', '18:55', 382),\n",
              " ('16:52', '20:48', 448),\n",
              " ('18:26', '21:29', 464),\n",
              " ('20:07', '23:27', 473)]"
            ]
          },
          "metadata": {},
          "execution_count": 27
        }
      ]
    },
    {
      "cell_type": "markdown",
      "metadata": {
        "id": "mgHnSkdacDEp"
      },
      "source": [
        "## Simulated annealing"
      ]
    },
    {
      "cell_type": "code",
      "source": [
        "best_solution, best_price = mlrose.simulated_annealing(problem,\n",
        "                                                       schedule=mlrose.GeomDecay(init_temp=1.0),\n",
        "                                                       max_attempts=100)\n",
        "best_solution, best_price"
      ],
      "metadata": {
        "colab": {
          "base_uri": "https://localhost:8080/"
        },
        "id": "kkNdE9x3gZXE",
        "outputId": "7fb90ce2-d4bf-48be-9156-9f66d98a3f62"
      },
      "execution_count": null,
      "outputs": [
        {
          "output_type": "execute_result",
          "data": {
            "text/plain": [
              "(array([2, 1, 5, 7, 8, 1, 3, 6, 0, 2, 9, 1]), 1573.0)"
            ]
          },
          "metadata": {},
          "execution_count": 28
        }
      ]
    },
    {
      "cell_type": "code",
      "source": [
        "print_schedule(best_solution)"
      ],
      "metadata": {
        "colab": {
          "base_uri": "https://localhost:8080/"
        },
        "id": "QGXGzkWBgws3",
        "outputId": "eabe6244-dc8b-4ace-fc78-2d590f99b081"
      },
      "execution_count": null,
      "outputs": [
        {
          "output_type": "stream",
          "name": "stdout",
          "text": [
            "    Lisbon       LIS  9:15-12:03  99  8:04-10:59 136\n",
            "    Madrid       MAD 14:22-16:32 126 17:06-20:00  95\n",
            "     Paris       CDG 18:23-21:35 134  8:23-11:07 143\n",
            "    Dublin       DUB 11:16-13:29  83 15:25-16:58  62\n",
            "  Brussels       BRU  6:12-10:22 230  9:49-13:51 229\n",
            "    London       LHR 20:30-23:11 114  8:19-11:16 122\n",
            "Total price:  1573\n"
          ]
        }
      ]
    },
    {
      "cell_type": "markdown",
      "metadata": {
        "id": "Zt7GvTvc1dnQ"
      },
      "source": [
        "## Genetic algorithm"
      ]
    },
    {
      "cell_type": "code",
      "source": [
        "best_solution, best_price = mlrose.genetic_alg(problem, pop_size=500, mutation_prob=0.1,\n",
        "                                               max_attempts=100)\n",
        "best_solution, best_price"
      ],
      "metadata": {
        "colab": {
          "base_uri": "https://localhost:8080/"
        },
        "id": "Kw23TNW9oazD",
        "outputId": "f61358c5-917c-4de3-9fe1-d5fdeb7a3933"
      },
      "execution_count": null,
      "outputs": [
        {
          "output_type": "execute_result",
          "data": {
            "text/plain": [
              "(array([2, 6, 4, 9, 8, 1, 0, 5, 0, 3, 3, 1]), 1759.0)"
            ]
          },
          "metadata": {},
          "execution_count": 30
        }
      ]
    },
    {
      "cell_type": "code",
      "source": [
        "print_schedule(best_solution)"
      ],
      "metadata": {
        "id": "RZznzCcZp-dq",
        "outputId": "2f59bd37-8f51-4a36-a6f4-e50dd3613a50",
        "colab": {
          "base_uri": "https://localhost:8080/"
        }
      },
      "execution_count": null,
      "outputs": [
        {
          "output_type": "stream",
          "name": "stdout",
          "text": [
            "    Lisbon       LIS  9:15-12:03  99 15:07-17:21 129\n",
            "    Madrid       MAD 12:44-14:17 134 19:32-21:25 160\n",
            "     Paris       CDG 18:23-21:35 134  8:23-11:07 143\n",
            "    Dublin       DUB  6:17- 8:26  89 13:39-15:30  74\n",
            "  Brussels       BRU  6:12-10:22 230 10:51-14:16 256\n",
            "    London       LHR 10:53-13:36 189  8:19-11:16 122\n",
            "Total price:  1759\n"
          ]
        }
      ]
    }
  ]
}